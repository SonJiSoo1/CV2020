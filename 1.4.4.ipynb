{
 "cells": [
  {
   "cell_type": "markdown",
   "metadata": {},
   "source": [
    "# 1.4.4 Smoothing Images"
   ]
  },
  {
   "cell_type": "markdown",
   "metadata": {},
   "source": [
    "## Kernel Convolution"
   ]
  },
  {
   "cell_type": "code",
   "execution_count": 1,
   "metadata": {},
   "outputs": [],
   "source": [
    "import cv2\n",
    "import numpy as np\n",
    "from matplotlib import pyplot as plt"
   ]
  },
  {
   "cell_type": "code",
   "execution_count": 2,
   "metadata": {},
   "outputs": [],
   "source": [
    "l=1\n",
    "kernel = np.array([[0,-1,0],[-1,4,-1],[0,-1,0]],np.float32)"
   ]
  },
  {
   "cell_type": "code",
   "execution_count": 3,
   "metadata": {},
   "outputs": [
    {
     "data": {
      "text/plain": [
       "array([[ 0., -1.,  0.],\n",
       "       [-1.,  4., -1.],\n",
       "       [ 0., -1.,  0.]], dtype=float32)"
      ]
     },
     "execution_count": 3,
     "metadata": {},
     "output_type": "execute_result"
    }
   ],
   "source": [
    "kernel"
   ]
  },
  {
   "cell_type": "code",
   "execution_count": 4,
   "metadata": {},
   "outputs": [],
   "source": [
    "img = np.random.randint(10, size=(12,12))\n",
    "#img = np.ones((10,10),np.float32)"
   ]
  },
  {
   "cell_type": "code",
   "execution_count": 5,
   "metadata": {},
   "outputs": [
    {
     "data": {
      "text/plain": [
       "array([[9, 1, 4, 1, 6, 3, 3, 6, 9, 6, 9, 9],\n",
       "       [9, 8, 4, 8, 4, 9, 7, 6, 5, 2, 1, 1],\n",
       "       [6, 8, 5, 4, 8, 6, 6, 3, 3, 2, 9, 7],\n",
       "       [6, 8, 3, 2, 2, 1, 2, 0, 8, 2, 6, 3],\n",
       "       [8, 7, 5, 0, 6, 7, 5, 2, 0, 6, 8, 7],\n",
       "       [9, 6, 8, 3, 9, 9, 1, 9, 3, 7, 0, 4],\n",
       "       [7, 7, 9, 0, 0, 5, 9, 7, 9, 1, 3, 2],\n",
       "       [4, 8, 1, 5, 4, 2, 8, 0, 9, 9, 3, 5],\n",
       "       [3, 8, 0, 2, 6, 4, 7, 9, 0, 6, 8, 3],\n",
       "       [7, 3, 8, 7, 1, 2, 6, 5, 0, 8, 2, 4],\n",
       "       [4, 4, 4, 4, 9, 9, 0, 8, 6, 9, 4, 6],\n",
       "       [4, 0, 8, 2, 1, 2, 9, 9, 8, 9, 9, 6]])"
      ]
     },
     "execution_count": 5,
     "metadata": {},
     "output_type": "execute_result"
    }
   ],
   "source": [
    "img"
   ]
  },
  {
   "cell_type": "code",
   "execution_count": 6,
   "metadata": {},
   "outputs": [],
   "source": [
    "h,w=img.shape"
   ]
  },
  {
   "cell_type": "code",
   "execution_count": 7,
   "metadata": {},
   "outputs": [
    {
     "name": "stdout",
     "output_type": "stream",
     "text": [
      "12 12\n"
     ]
    }
   ],
   "source": [
    "print(h,w)"
   ]
  },
  {
   "cell_type": "code",
   "execution_count": 8,
   "metadata": {},
   "outputs": [],
   "source": [
    "#[*range(-2,3)]"
   ]
  },
  {
   "cell_type": "code",
   "execution_count": 9,
   "metadata": {},
   "outputs": [],
   "source": [
    "dst = np.zeros((h,w),np.int)"
   ]
  },
  {
   "cell_type": "code",
   "execution_count": 10,
   "metadata": {},
   "outputs": [],
   "source": [
    "for i in range(l,h-l):\n",
    "    for j in range(l,w-l):\n",
    "        t=0\n",
    "        for p in range(-l,l+1):\n",
    "            for q in range(-l,l+1):\n",
    "                t += kernel[p+l,q+l]*img[i+p,j+q]\n",
    "        dst[i,j]=t        "
   ]
  },
  {
   "cell_type": "code",
   "execution_count": 11,
   "metadata": {},
   "outputs": [
    {
     "data": {
      "text/plain": [
       "array([[9, 1, 4, 1, 6, 3, 3, 6, 9, 6, 9, 9],\n",
       "       [9, 8, 4, 8, 4, 9, 7, 6, 5, 2, 1, 1],\n",
       "       [6, 8, 5, 4, 8, 6, 6, 3, 3, 2, 9, 7],\n",
       "       [6, 8, 3, 2, 2, 1, 2, 0, 8, 2, 6, 3],\n",
       "       [8, 7, 5, 0, 6, 7, 5, 2, 0, 6, 8, 7],\n",
       "       [9, 6, 8, 3, 9, 9, 1, 9, 3, 7, 0, 4],\n",
       "       [7, 7, 9, 0, 0, 5, 9, 7, 9, 1, 3, 2],\n",
       "       [4, 8, 1, 5, 4, 2, 8, 0, 9, 9, 3, 5],\n",
       "       [3, 8, 0, 2, 6, 4, 7, 9, 0, 6, 8, 3],\n",
       "       [7, 3, 8, 7, 1, 2, 6, 5, 0, 8, 2, 4],\n",
       "       [4, 4, 4, 4, 9, 9, 0, 8, 6, 9, 4, 6],\n",
       "       [4, 0, 8, 2, 1, 2, 9, 9, 8, 9, 9, 6]])"
      ]
     },
     "execution_count": 11,
     "metadata": {},
     "output_type": "execute_result"
    }
   ],
   "source": [
    "img"
   ]
  },
  {
   "cell_type": "code",
   "execution_count": 12,
   "metadata": {},
   "outputs": [
    {
     "data": {
      "text/plain": [
       "array([[  0,   0,   0,   0,   0,   0,   0,   0,   0,   0,   0,   0],\n",
       "       [  0,  10,  -9,  19, -15,  16,   4,   3,   0,  -6, -17,   0],\n",
       "       [  0,   5,   1,  -7,  16,   0,   6,  -3,  -6,  -8,  20,   0],\n",
       "       [  0,   8,  -8,  -1,  -9, -13,  -4, -15,  27, -14,   2,   0],\n",
       "       [  0,   1,   2, -16,   6,   7,   8,  -6, -19,   7,  13,   0],\n",
       "       [  0,  -7,   9,  -5,  18,  14, -28,  23, -13,  18, -22,   0],\n",
       "       [  0,  -2,  20, -17, -18,   0,  15,   1,  16, -24,   6,   0],\n",
       "       [  0,  12, -18,  13,   3, -13,  14, -33,  18,  17, -13,   0],\n",
       "       [  0,  18, -19, -10,  13,  -1,   1,  24, -24,  -1,  18,   0],\n",
       "       [  0, -15,  18,  13, -20, -12,  10,  -3, -19,  15, -16,   0],\n",
       "       [  0,   5,  -8,  -6,  21,  23, -32,  12,  -1,   9, -10,   0],\n",
       "       [  0,   0,   0,   0,   0,   0,   0,   0,   0,   0,   0,   0]])"
      ]
     },
     "execution_count": 12,
     "metadata": {},
     "output_type": "execute_result"
    }
   ],
   "source": [
    "dst"
   ]
  },
  {
   "cell_type": "code",
   "execution_count": 13,
   "metadata": {},
   "outputs": [],
   "source": [
    "img = cv2.imread('lena.png', 0)"
   ]
  },
  {
   "cell_type": "code",
   "execution_count": 14,
   "metadata": {},
   "outputs": [],
   "source": [
    "h,w=img.shape"
   ]
  },
  {
   "cell_type": "code",
   "execution_count": 15,
   "metadata": {},
   "outputs": [],
   "source": [
    "dst = np.zeros((h-2*l,w-2*l),np.uint8)"
   ]
  },
  {
   "cell_type": "code",
   "execution_count": 16,
   "metadata": {},
   "outputs": [],
   "source": [
    "for i in range(l,h-l):\n",
    "    for j in range(l,w-l):\n",
    "        t=0\n",
    "        for p in range(-l,l+1):\n",
    "            for q in range(-l,l+1):\n",
    "                t += kernel[p+l,q+l]*img[i+p,j+q]\n",
    "        dst[i-l,j-l]=t "
   ]
  },
  {
   "cell_type": "code",
   "execution_count": 17,
   "metadata": {},
   "outputs": [],
   "source": [
    "cv2.imshow('img',img)\n",
    "cv2.imshow('dst',dst)\n",
    "cv2.waitKey(0)\n",
    "cv2.destroyAllWindows()"
   ]
  },
  {
   "cell_type": "code",
   "execution_count": null,
   "metadata": {},
   "outputs": [],
   "source": []
  },
  {
   "cell_type": "code",
   "execution_count": null,
   "metadata": {},
   "outputs": [],
   "source": []
  }
 ],
 "metadata": {
  "kernelspec": {
   "display_name": "Python 3",
   "language": "python",
   "name": "python3"
  },
  "language_info": {
   "codemirror_mode": {
    "name": "ipython",
    "version": 3
   },
   "file_extension": ".py",
   "mimetype": "text/x-python",
   "name": "python",
   "nbconvert_exporter": "python",
   "pygments_lexer": "ipython3",
   "version": "3.8.3"
  }
 },
 "nbformat": 4,
 "nbformat_minor": 4
}
